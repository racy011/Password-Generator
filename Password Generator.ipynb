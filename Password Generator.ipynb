{
 "cells": [
  {
   "cell_type": "code",
   "execution_count": 1,
   "id": "d5654c86",
   "metadata": {},
   "outputs": [],
   "source": [
    "letters = ['a', 'b', 'c', 'd', 'e', 'f', 'g', 'h', 'i', 'j', 'k', 'l', 'm', 'n', 'o', 'p', 'q', 'r', 's', 't', 'u', 'v', \n",
    "           'w', 'x', 'y', 'z', 'A', 'B', 'C', 'D', 'E', 'F', 'G', 'H', 'I', 'J', 'K', 'L', 'M', 'N', 'O', 'P', 'Q', 'R', \n",
    "           'S', 'T', 'U', 'V', 'W', 'X', 'Y', 'Z']\n",
    "numbers = ['0', '1', '2', '3', '4', '5', '6', '7', '8', '9']\n",
    "symbols = ['!', '#', '$', '%', '&', '(', ')', '*', '+']"
   ]
  },
  {
   "cell_type": "code",
   "execution_count": 2,
   "id": "69e27686",
   "metadata": {},
   "outputs": [],
   "source": [
    "import random"
   ]
  },
  {
   "cell_type": "code",
   "execution_count": 4,
   "id": "c9c5369e",
   "metadata": {},
   "outputs": [
    {
     "name": "stdout",
     "output_type": "stream",
     "text": [
      "Welcome to the Password Generator\n"
     ]
    }
   ],
   "source": [
    "print(\"Welcome to the Password Generator\")"
   ]
  },
  {
   "cell_type": "code",
   "execution_count": 5,
   "id": "92d5548d",
   "metadata": {},
   "outputs": [
    {
     "name": "stdout",
     "output_type": "stream",
     "text": [
      "What number of letter you want?3\n",
      "What is the number of numbers you want?3\n",
      "What is the number of symbols you want?3\n",
      "axn&))778\n"
     ]
    }
   ],
   "source": [
    "nr_letters = int(input(\"What number of letter you want?\"))\n",
    "nr_numbers = int(input(\"What is the number of numbers you want?\"))\n",
    "nr_symbols = int(input(\"What is the number of symbols you want?\"))\n",
    "\n",
    "password = \"\"\n",
    "\n",
    "for char in range(1, nr_letters+1):\n",
    "    password += random.choice(letters)\n",
    "    \n",
    "for char in range(1,nr_symbols + 1):\n",
    "    password += random.choice(symbols)\n",
    "    \n",
    "for char in range(1, nr_numbers + 1):\n",
    "    password += random.choice(numbers)\n",
    "    \n",
    "print(password)"
   ]
  },
  {
   "cell_type": "code",
   "execution_count": null,
   "id": "0573bbdd",
   "metadata": {},
   "outputs": [],
   "source": []
  }
 ],
 "metadata": {
  "kernelspec": {
   "display_name": "Python 3 (ipykernel)",
   "language": "python",
   "name": "python3"
  },
  "language_info": {
   "codemirror_mode": {
    "name": "ipython",
    "version": 3
   },
   "file_extension": ".py",
   "mimetype": "text/x-python",
   "name": "python",
   "nbconvert_exporter": "python",
   "pygments_lexer": "ipython3",
   "version": "3.10.9"
  }
 },
 "nbformat": 4,
 "nbformat_minor": 5
}
